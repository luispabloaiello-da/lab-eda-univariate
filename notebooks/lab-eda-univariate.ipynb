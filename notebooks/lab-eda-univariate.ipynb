{
 "cells": [
  {
   "cell_type": "code",
   "execution_count": 1,
   "id": "86df1870",
   "metadata": {},
   "outputs": [],
   "source": [
    "import yaml\n",
    "import pandas as pd\n",
    "import matplotlib.pyplot as plt\n",
    "import seaborn as sns\n",
    "import numpy as np\n",
    "\n",
    "%matplotlib inline\n",
    "\n",
    "# Load dynamic YAML configuration to reference CSV file paths for data import\n",
    "config = None  # <-- Initialize config\n",
    "try:\n",
    "    with open(\"../config.yaml\", \"r\") as file:\n",
    "        config = yaml.safe_load(file)\n",
    "except:\n",
    "    print(\"Yaml configuration file not found!\")\n",
    "config\n",
    "\n",
    "df = pd.read_csv(config['input_data']['file1'])\n"
   ]
  },
  {
   "cell_type": "code",
   "execution_count": 2,
   "id": "d9ca65a7",
   "metadata": {},
   "outputs": [
    {
     "name": "stdout",
     "output_type": "stream",
     "text": [
      "<class 'pandas.core.frame.DataFrame'>\n",
      "RangeIndex: 2443651 entries, 0 to 2443650\n",
      "Data columns (total 9 columns):\n",
      " #   Column             Dtype  \n",
      "---  ------             -----  \n",
      " 0   uid                int64  \n",
      " 1   asin               object \n",
      " 2   title              object \n",
      " 3   stars              float64\n",
      " 4   reviews            int64  \n",
      " 5   price              float64\n",
      " 6   isBestSeller       bool   \n",
      " 7   boughtInLastMonth  int64  \n",
      " 8   category           object \n",
      "dtypes: bool(1), float64(2), int64(3), object(3)\n",
      "memory usage: 151.5+ MB\n"
     ]
    }
   ],
   "source": [
    "# Columns info from Amazon UK product dataset \n",
    "\n",
    "# uid: Unique identifier for each row. (type: int)\n",
    "# asin: Product ID from Amazon. (type: str)\n",
    "# title: Title of the product. (type: str)\n",
    "# stars: Product rating. If 0, no ratings were found. (type: float)\n",
    "# reviews: Number of customer reviews. If 0, no reviews were found. (type: int)\n",
    "# price: Price of the product. (type: float, Currency: GBP)\n",
    "# boughtInLastMonth: Whether the product had the Amazon BestSeller status or not. (type: bool)\n",
    "# category: Indicates how many products we sold last month. (type: int)\n",
    "\n",
    "df.info()"
   ]
  },
  {
   "cell_type": "code",
   "execution_count": 3,
   "id": "8df16c6f",
   "metadata": {},
   "outputs": [
    {
     "data": {
      "text/html": [
       "<div>\n",
       "<style scoped>\n",
       "    .dataframe tbody tr th:only-of-type {\n",
       "        vertical-align: middle;\n",
       "    }\n",
       "\n",
       "    .dataframe tbody tr th {\n",
       "        vertical-align: top;\n",
       "    }\n",
       "\n",
       "    .dataframe thead th {\n",
       "        text-align: right;\n",
       "    }\n",
       "</style>\n",
       "<table border=\"1\" class=\"dataframe\">\n",
       "  <thead>\n",
       "    <tr style=\"text-align: right;\">\n",
       "      <th></th>\n",
       "      <th>uid</th>\n",
       "      <th>asin</th>\n",
       "      <th>title</th>\n",
       "      <th>stars</th>\n",
       "      <th>reviews</th>\n",
       "      <th>price</th>\n",
       "      <th>isBestSeller</th>\n",
       "      <th>boughtInLastMonth</th>\n",
       "      <th>category</th>\n",
       "    </tr>\n",
       "  </thead>\n",
       "  <tbody>\n",
       "    <tr>\n",
       "      <th>0</th>\n",
       "      <td>1</td>\n",
       "      <td>B09B96TG33</td>\n",
       "      <td>Echo Dot (5th generation, 2022 release) | Big ...</td>\n",
       "      <td>4.7</td>\n",
       "      <td>15308</td>\n",
       "      <td>21.99</td>\n",
       "      <td>False</td>\n",
       "      <td>0</td>\n",
       "      <td>Hi-Fi Speakers</td>\n",
       "    </tr>\n",
       "    <tr>\n",
       "      <th>1</th>\n",
       "      <td>2</td>\n",
       "      <td>B01HTH3C8S</td>\n",
       "      <td>Anker Soundcore mini, Super-Portable Bluetooth...</td>\n",
       "      <td>4.7</td>\n",
       "      <td>98099</td>\n",
       "      <td>23.99</td>\n",
       "      <td>True</td>\n",
       "      <td>0</td>\n",
       "      <td>Hi-Fi Speakers</td>\n",
       "    </tr>\n",
       "    <tr>\n",
       "      <th>2</th>\n",
       "      <td>3</td>\n",
       "      <td>B09B8YWXDF</td>\n",
       "      <td>Echo Dot (5th generation, 2022 release) | Big ...</td>\n",
       "      <td>4.7</td>\n",
       "      <td>15308</td>\n",
       "      <td>21.99</td>\n",
       "      <td>False</td>\n",
       "      <td>0</td>\n",
       "      <td>Hi-Fi Speakers</td>\n",
       "    </tr>\n",
       "    <tr>\n",
       "      <th>3</th>\n",
       "      <td>4</td>\n",
       "      <td>B09B8T5VGV</td>\n",
       "      <td>Echo Dot with clock (5th generation, 2022 rele...</td>\n",
       "      <td>4.7</td>\n",
       "      <td>7205</td>\n",
       "      <td>31.99</td>\n",
       "      <td>False</td>\n",
       "      <td>0</td>\n",
       "      <td>Hi-Fi Speakers</td>\n",
       "    </tr>\n",
       "    <tr>\n",
       "      <th>4</th>\n",
       "      <td>5</td>\n",
       "      <td>B09WX6QD65</td>\n",
       "      <td>Introducing Echo Pop | Full sound compact Wi-F...</td>\n",
       "      <td>4.6</td>\n",
       "      <td>1881</td>\n",
       "      <td>17.99</td>\n",
       "      <td>False</td>\n",
       "      <td>0</td>\n",
       "      <td>Hi-Fi Speakers</td>\n",
       "    </tr>\n",
       "  </tbody>\n",
       "</table>\n",
       "</div>"
      ],
      "text/plain": [
       "   uid        asin                                              title  stars  \\\n",
       "0    1  B09B96TG33  Echo Dot (5th generation, 2022 release) | Big ...    4.7   \n",
       "1    2  B01HTH3C8S  Anker Soundcore mini, Super-Portable Bluetooth...    4.7   \n",
       "2    3  B09B8YWXDF  Echo Dot (5th generation, 2022 release) | Big ...    4.7   \n",
       "3    4  B09B8T5VGV  Echo Dot with clock (5th generation, 2022 rele...    4.7   \n",
       "4    5  B09WX6QD65  Introducing Echo Pop | Full sound compact Wi-F...    4.6   \n",
       "\n",
       "   reviews  price  isBestSeller  boughtInLastMonth        category  \n",
       "0    15308  21.99         False                  0  Hi-Fi Speakers  \n",
       "1    98099  23.99          True                  0  Hi-Fi Speakers  \n",
       "2    15308  21.99         False                  0  Hi-Fi Speakers  \n",
       "3     7205  31.99         False                  0  Hi-Fi Speakers  \n",
       "4     1881  17.99         False                  0  Hi-Fi Speakers  "
      ]
     },
     "execution_count": 3,
     "metadata": {},
     "output_type": "execute_result"
    }
   ],
   "source": [
    "df.head(5)"
   ]
  },
  {
   "cell_type": "code",
   "execution_count": 4,
   "id": "d3cf71c1",
   "metadata": {},
   "outputs": [
    {
     "data": {
      "text/plain": [
       "uid                  2443651\n",
       "asin                 2222742\n",
       "title                2077591\n",
       "stars                     42\n",
       "reviews                19446\n",
       "price                  82916\n",
       "isBestSeller               2\n",
       "boughtInLastMonth         25\n",
       "category                 296\n",
       "dtype: int64"
      ]
     },
     "execution_count": 4,
     "metadata": {},
     "output_type": "execute_result"
    }
   ],
   "source": [
    "df.nunique()"
   ]
  },
  {
   "cell_type": "code",
   "execution_count": 5,
   "id": "cd5c9722",
   "metadata": {},
   "outputs": [
    {
     "data": {
      "text/plain": [
       "category\n",
       "Sports & Outdoors                         836265\n",
       "Beauty                                     19312\n",
       "Handmade Clothing, Shoes & Accessories     19229\n",
       "Bath & Body                                19092\n",
       "Birthday Gifts                             18978\n",
       "                                           ...  \n",
       "Motorbike Chassis                            107\n",
       "Alexa Built-In Devices                       107\n",
       "Plugs                                        107\n",
       "Smart Home Security & Lighting               104\n",
       "Smart Speakers                                54\n",
       "Name: count, Length: 296, dtype: int64"
      ]
     },
     "execution_count": 5,
     "metadata": {},
     "output_type": "execute_result"
    }
   ],
   "source": [
    "# Generate a frequency table for the product category.\n",
    "frequency_category = df['category'].value_counts().sort_values(ascending=False)\n",
    "frequency_category"
   ]
  },
  {
   "cell_type": "code",
   "execution_count": 7,
   "id": "41e61af6",
   "metadata": {},
   "outputs": [
    {
     "data": {
      "text/plain": [
       "category\n",
       "Sports & Outdoors                         836265\n",
       "Beauty                                     19312\n",
       "Handmade Clothing, Shoes & Accessories     19229\n",
       "Bath & Body                                19092\n",
       "Birthday Gifts                             18978\n",
       "Name: count, dtype: int64"
      ]
     },
     "execution_count": 7,
     "metadata": {},
     "output_type": "execute_result"
    }
   ],
   "source": [
    "# Which are the top 5 most listed product categories?\n",
    "frequency_category.sort_values(ascending=False).head(5)"
   ]
  },
  {
   "cell_type": "code",
   "execution_count": 24,
   "id": "36fdde17",
   "metadata": {},
   "outputs": [
    {
     "data": {
      "image/png": "[encoded data removed]",
      "text/plain": [
       "<Figure size 1200x600 with 1 Axes>"
      ]
     },
     "metadata": {},
     "output_type": "display_data"
    },
    {
     "data": {
      "image/png": "[encoded data removed]",
      "text/plain": [
       "<Figure size 1000x600 with 1 Axes>"
      ]
     },
     "metadata": {},
     "output_type": "display_data"
    },
    {
     "name": "stdout",
     "output_type": "stream",
     "text": [
      "Top 10 categories with counts:\n",
      "category\n",
      "Sports & Outdoors                         836265\n",
      "Beauty                                     19312\n",
      "Handmade Clothing, Shoes & Accessories     19229\n",
      "Bath & Body                                19092\n",
      "Birthday Gifts                             18978\n",
      "Manicure & Pedicure Products               18940\n",
      "Skin Care                                  18769\n",
      "Make-up                                    18756\n",
      "Hair Care                                  18735\n",
      "Fragrances                                 18564\n",
      "Name: count, dtype: int64\n"
     ]
    }
   ],
   "source": [
    "# Display the distribution of products across different categories using a bar chart. \n",
    "# If you face problems understanding the chart, do it for a subset of top categories.\n",
    "\n",
    "# Top 10 categorías\n",
    "plt.figure(figsize=(12, 6))\n",
    "top_10_categories = df['category'].value_counts().sort_values(ascending=False).head(10)\n",
    "top_10_categories.plot(kind='bar', color='skyblue', edgecolor='black')\n",
    "plt.title('Distribution of Top 10 Product Categories', fontsize=14, fontweight='bold')\n",
    "plt.xlabel('Category')\n",
    "plt.ylabel('Number of Products')\n",
    "plt.xticks(rotation=45, ha='right')\n",
    "plt.tight_layout()\n",
    "plt.show()\n",
    "\n",
    "# Top 5 categorías\n",
    "plt.figure(figsize=(10, 6))\n",
    "top_5_categories = df['category'].value_counts().sort_values(ascending=False).head(5)\n",
    "sns.barplot(x=top_5_categories.values, y=top_5_categories.index) # , hue=top_5_categories.values, palette=\"Set2\"\n",
    "plt.title('Distribution of Top 5 Product Categories', fontsize=14, fontweight='bold')\n",
    "plt.xlabel('Number of Products')\n",
    "plt.ylabel('Category')\n",
    "plt.tight_layout()\n",
    "plt.show()\n",
    "\n",
    "print(\"Top 10 categories with counts:\")\n",
    "print(df['category'].value_counts().head(10))"
   ]
  },
  {
   "cell_type": "code",
   "execution_count": 37,
   "id": "b82dfcac",
   "metadata": {},
   "outputs": [
    {
     "data": {
      "text/plain": [
       "category\n",
       "Sports & Outdoors                         34.0\n",
       "Beauty                                     1.0\n",
       "Handmade Clothing, Shoes & Accessories     1.0\n",
       "Bath & Body                                1.0\n",
       "Birthday Gifts                             1.0\n",
       "                                          ... \n",
       "Motorbike Chassis                          0.0\n",
       "Alexa Built-In Devices                     0.0\n",
       "Plugs                                      0.0\n",
       "Smart Home Security & Lighting             0.0\n",
       "Smart Speakers                             0.0\n",
       "Name: proportion, Length: 296, dtype: float64"
      ]
     },
     "execution_count": 37,
     "metadata": {},
     "output_type": "execute_result"
    }
   ],
   "source": [
    "round(df['category'].value_counts(normalize=True).sort_values(ascending=False)*100)"
   ]
  },
  {
   "cell_type": "markdown",
   "id": "b01c631e",
   "metadata": {},
   "source": [
    "Plotting top 10 categories using a bar chart. This is ideal for large numbers of categories, as plotting all 296 would be unreadable.\n",
    "Why limit to top categories? With hundreds of categories, the chart would be too crowded and labels would overlap. By selecting the top N (5, 10, 15), we focus on the most significant segments.\n",
    "Insight:\n",
    "“Sports & Outdoors” is by far the largest category (≈34% of listings), followed by “Beauty,” “Handmade Clothing, Shoes & Accessories,” and a few others with far fewer products."
   ]
  },
  {
   "cell_type": "code",
   "execution_count": null,
   "id": "3cbfbb69",
   "metadata": {},
   "outputs": [
    {
     "data": {
      "image/png": "[encoded data removed]",
      "text/plain": [
       "<Figure size 640x480 with 1 Axes>"
      ]
     },
     "metadata": {},
     "output_type": "display_data"
    }
   ],
   "source": [
    "# For a subset of top categories, visualize their proportions using a pie chart. \n",
    "# Does any category dominate the listings?\n",
    "top_5_categories.plot.pie(autopct='%.1f%%', startangle=90, colors=sns.color_palette(\"Set3\"));\n",
    "plt.show()"
   ]
  },
  {
   "cell_type": "markdown",
   "id": "cd92a8f2",
   "metadata": {},
   "source": [
    "Pie charts work well for a handful of categories. Here, Sports & Outdoors dominates, with a massive slice (over 34%).\n",
    "Does any category dominate? Yes – Sports & Outdoors is overwhelmingly the most common.\n",
    "Best Practice:\n",
    "Pie charts are only useful for a small number of segments; for more, use a bar chart or pareto chart."
   ]
  },
  {
   "cell_type": "code",
   "execution_count": 10,
   "id": "662a80a2",
   "metadata": {},
   "outputs": [
    {
     "data": {
      "text/plain": [
       "count    2443651.00\n",
       "mean          89.24\n",
       "std          345.61\n",
       "min            0.00\n",
       "25%            9.99\n",
       "50%           19.09\n",
       "75%           45.99\n",
       "max       100000.00\n",
       "Name: price, dtype: float64"
      ]
     },
     "execution_count": 10,
     "metadata": {},
     "output_type": "execute_result"
    }
   ],
   "source": [
    "round(df['price'].describe(),2)"
   ]
  },
  {
   "cell_type": "code",
   "execution_count": 25,
   "id": "40379e65",
   "metadata": {},
   "outputs": [
    {
     "name": "stdout",
     "output_type": "stream",
     "text": [
      "Mean Price: 89.24\n",
      "Median Price: 19.09\n",
      "Mode Price: 0    9.99\n",
      "Name: price, dtype: float64\n"
     ]
    }
   ],
   "source": [
    "# Calculate the mean, median, and mode for the price of products.\n",
    "print(f\"Mean Price: {round(df['price'].mean(),2)}\")\n",
    "print(f\"Median Price: {round(df['price'].median(),2)}\")\n",
    "print(f\"Mode Price: {round(df['price'].mode(),2)}\")"
   ]
  },
  {
   "cell_type": "code",
   "execution_count": 26,
   "id": "976902a0",
   "metadata": {},
   "outputs": [
    {
     "data": {
      "text/plain": [
       "(27, 4242)"
      ]
     },
     "execution_count": 26,
     "metadata": {},
     "output_type": "execute_result"
    }
   ],
   "source": [
    "skewness_price = round(df['price'].skew())\n",
    "kurtosis_price = round(df['price'].kurtosis())\n",
    "\n",
    "skewness_price, kurtosis_price"
   ]
  },
  {
   "cell_type": "markdown",
   "id": "93c82cc7",
   "metadata": {},
   "source": [
    "Analysis:\n",
    "\n",
    "The mean is much higher than both the median and mode, which suggests the presence of high-priced outliers skewing the average.\n",
    "The median is more representative of a “typical” product, as half of products are below 19.09 GBP.\n",
    "The mode (most frequent price) is 9.99 GBP, showing that many products cluster at a low price point.\n",
    "\n",
    "Recommendation:\n",
    "\n",
    "In skewed distributions (like price), median and mode are better measures of “typical” value than the mean."
   ]
  },
  {
   "cell_type": "code",
   "execution_count": 29,
   "id": "b604f2bc",
   "metadata": {},
   "outputs": [
    {
     "name": "stdout",
     "output_type": "stream",
     "text": [
      "Variance Price: 119445.49\n",
      "Std Deviation Price: 345.61\n",
      "Price Range: (np.float64(0.0), np.float64(100000.0))\n",
      "Price Interquartile Range: 36.0\n"
     ]
    }
   ],
   "source": [
    "desc = df['price'].describe()\n",
    "# desc['std'], desc['min'], desc['max'], desc['25%'], desc['75%']\n",
    "variance = round(df['price'].var(), 2)\n",
    "std_dev = round(df['price'].std(), 2)\n",
    "price_range = (desc['min'], desc['max'])\n",
    "iqr = desc['75%'] - desc['25%']\n",
    "\n",
    "print(f'Variance Price: {variance}')\n",
    "print(f\"Std Deviation Price: {std_dev}\")\n",
    "print(f'Price Range: {price_range}')\n",
    "print(f\"Price Interquartile Range: {iqr}\")"
   ]
  },
  {
   "cell_type": "markdown",
   "id": "98f3d0fe",
   "metadata": {},
   "source": [
    "Analysis:\n",
    "\n",
    "The range is huge (0 to £100,000), but most products are much cheaper.\n",
    "Std Dev is very large relative to the mean, confirming a wide spread.\n",
    "IQR (middle 50%) is much smaller, showing most products fall within a tighter band.\n",
    "\n",
    "Conclusion:\n",
    "\n",
    "Product prices are highly dispersed, with a significant tail of expensive items. The IQR shows most prices are clustered at the lower end."
   ]
  },
  {
   "cell_type": "code",
   "execution_count": 15,
   "id": "c22807c8",
   "metadata": {},
   "outputs": [],
   "source": [
    "# Discretizing 'SalePrice' into 4 categories\n",
    "bins = [0, 25000, 50000, 75000, df['price'].max()]\n",
    "labels = ['Low', 'Medium', 'High', 'Very High']\n",
    "df['price_category'] = pd.cut(df['price'], bins=bins, labels=labels, include_lowest=True)"
   ]
  },
  {
   "cell_type": "code",
   "execution_count": 16,
   "id": "7564cf8f",
   "metadata": {},
   "outputs": [
    {
     "name": "stderr",
     "output_type": "stream",
     "text": [
      "C:\\Users\\pablo\\AppData\\Local\\Temp\\ipykernel_10688\\4007683047.py:3: FutureWarning: The default of observed=False is deprecated and will be changed to True in a future version of pandas. Pass observed=False to retain current behavior or observed=True to adopt the future default and silence this warning.\n",
      "  newDf = pd.DataFrame(df.groupby(\"price_category\")[\"price\"].median())\n"
     ]
    },
    {
     "data": {
      "text/html": [
       "<div>\n",
       "<style scoped>\n",
       "    .dataframe tbody tr th:only-of-type {\n",
       "        vertical-align: middle;\n",
       "    }\n",
       "\n",
       "    .dataframe tbody tr th {\n",
       "        vertical-align: top;\n",
       "    }\n",
       "\n",
       "    .dataframe thead th {\n",
       "        text-align: right;\n",
       "    }\n",
       "</style>\n",
       "<table border=\"1\" class=\"dataframe\">\n",
       "  <thead>\n",
       "    <tr style=\"text-align: right;\">\n",
       "      <th></th>\n",
       "      <th>price</th>\n",
       "    </tr>\n",
       "    <tr>\n",
       "      <th>price_category</th>\n",
       "      <th></th>\n",
       "    </tr>\n",
       "  </thead>\n",
       "  <tbody>\n",
       "    <tr>\n",
       "      <th>Low</th>\n",
       "      <td>19.09</td>\n",
       "    </tr>\n",
       "    <tr>\n",
       "      <th>Medium</th>\n",
       "      <td>NaN</td>\n",
       "    </tr>\n",
       "    <tr>\n",
       "      <th>High</th>\n",
       "      <td>NaN</td>\n",
       "    </tr>\n",
       "    <tr>\n",
       "      <th>Very High</th>\n",
       "      <td>88876.00</td>\n",
       "    </tr>\n",
       "  </tbody>\n",
       "</table>\n",
       "</div>"
      ],
      "text/plain": [
       "                   price\n",
       "price_category          \n",
       "Low                19.09\n",
       "Medium               NaN\n",
       "High                 NaN\n",
       "Very High       88876.00"
      ]
     },
     "execution_count": 16,
     "metadata": {},
     "output_type": "execute_result"
    }
   ],
   "source": [
    "#ColumnOne is the selected/displayed column.\n",
    "#ColumnTwo is the aggregated column.\n",
    "newDf = pd.DataFrame(df.groupby(\"price_category\")[\"price\"].median())\n",
    "newDf"
   ]
  },
  {
   "cell_type": "code",
   "execution_count": 35,
   "id": "4a1467a7",
   "metadata": {},
   "outputs": [
    {
     "data": {
      "image/png": "[encoded data removed]",
      "text/plain": [
       "<Figure size 1000x600 with 1 Axes>"
      ]
     },
     "metadata": {},
     "output_type": "display_data"
    }
   ],
   "source": [
    "plt.figure(figsize=(10, 6))\n",
    "plt.hist(df['price'], bins=50, color='skyblue', edgecolor='black', log=True)  # Use log scale for visibility\n",
    "# plt.hist(df[df['price']<500]['price'], bins=50) \n",
    "plt.title('Histogram of Product Prices')\n",
    "plt.xlabel('Price')\n",
    "plt.ylabel('Frequency (log scale)')\n",
    "plt.show()"
   ]
  },
  {
   "cell_type": "markdown",
   "id": "5b6fdacf",
   "metadata": {},
   "source": [
    "Extreme outliers (very high prices) compress the lower-value bins.\n",
    "Most products have prices below £100, but a few are much higher, so the “bulk” is crowded into the first few bins.\n",
    "Solution: Use a log scale on the y-axis, or plot only prices below a threshold (e.g., <£500), or plot both full and zoomed-in histograms."
   ]
  },
  {
   "cell_type": "code",
   "execution_count": 36,
   "id": "8021a234",
   "metadata": {},
   "outputs": [
    {
     "data": {
      "image/png": "[encoded data removed]",
      "text/plain": [
       "<Figure size 640x480 with 1 Axes>"
      ]
     },
     "metadata": {},
     "output_type": "display_data"
    }
   ],
   "source": [
    "sns.boxplot(x=df['price'], color=\"lightblue\")\n",
    "plt.title('Boxplot of Product Prices')\n",
    "plt.show()"
   ]
  },
  {
   "cell_type": "code",
   "execution_count": null,
   "id": "358ba51c",
   "metadata": {},
   "outputs": [
    {
     "data": {
      "text/html": [
       "<div>\n",
       "<style scoped>\n",
       "    .dataframe tbody tr th:only-of-type {\n",
       "        vertical-align: middle;\n",
       "    }\n",
       "\n",
       "    .dataframe tbody tr th {\n",
       "        vertical-align: top;\n",
       "    }\n",
       "\n",
       "    .dataframe thead th {\n",
       "        text-align: right;\n",
       "    }\n",
       "</style>\n",
       "<table border=\"1\" class=\"dataframe\">\n",
       "  <thead>\n",
       "    <tr style=\"text-align: right;\">\n",
       "      <th></th>\n",
       "      <th>uid</th>\n",
       "      <th>asin</th>\n",
       "      <th>title</th>\n",
       "      <th>stars</th>\n",
       "      <th>reviews</th>\n",
       "      <th>price</th>\n",
       "      <th>isBestSeller</th>\n",
       "      <th>boughtInLastMonth</th>\n",
       "      <th>category</th>\n",
       "    </tr>\n",
       "  </thead>\n",
       "  <tbody>\n",
       "    <tr>\n",
       "      <th>1655310</th>\n",
       "      <td>1862213</td>\n",
       "      <td>B0CC26GGMM</td>\n",
       "      <td>Pinetree Bone Conduction Headphones, 2023 Upgr...</td>\n",
       "      <td>5.0</td>\n",
       "      <td>2</td>\n",
       "      <td>39.98</td>\n",
       "      <td>False</td>\n",
       "      <td>0</td>\n",
       "      <td>Headphones, Earphones &amp; Accessories</td>\n",
       "    </tr>\n",
       "    <tr>\n",
       "      <th>2437718</th>\n",
       "      <td>2819382</td>\n",
       "      <td>B0CCL3FGSD</td>\n",
       "      <td>Best House Ping Pong Table Tennis Balls 40mm B...</td>\n",
       "      <td>5.0</td>\n",
       "      <td>1</td>\n",
       "      <td>6.99</td>\n",
       "      <td>False</td>\n",
       "      <td>0</td>\n",
       "      <td>Table Tennis</td>\n",
       "    </tr>\n",
       "    <tr>\n",
       "      <th>2365983</th>\n",
       "      <td>2727113</td>\n",
       "      <td>B09VXRFLDS</td>\n",
       "      <td>Unisex Kid's Goldenstar Sandal</td>\n",
       "      <td>5.0</td>\n",
       "      <td>1</td>\n",
       "      <td>50.76</td>\n",
       "      <td>False</td>\n",
       "      <td>0</td>\n",
       "      <td>Girls</td>\n",
       "    </tr>\n",
       "    <tr>\n",
       "      <th>2437709</th>\n",
       "      <td>2819373</td>\n",
       "      <td>B09RB766G9</td>\n",
       "      <td>GEWO Rubber Thunderball 2</td>\n",
       "      <td>5.0</td>\n",
       "      <td>3</td>\n",
       "      <td>22.00</td>\n",
       "      <td>False</td>\n",
       "      <td>0</td>\n",
       "      <td>Table Tennis</td>\n",
       "    </tr>\n",
       "    <tr>\n",
       "      <th>1771188</th>\n",
       "      <td>1993660</td>\n",
       "      <td>B01EIB2VFI</td>\n",
       "      <td>Amplitude Large Hardside Suitcase in Silver wi...</td>\n",
       "      <td>5.0</td>\n",
       "      <td>2</td>\n",
       "      <td>130.18</td>\n",
       "      <td>False</td>\n",
       "      <td>0</td>\n",
       "      <td>Luggage and travel gear</td>\n",
       "    </tr>\n",
       "    <tr>\n",
       "      <th>...</th>\n",
       "      <td>...</td>\n",
       "      <td>...</td>\n",
       "      <td>...</td>\n",
       "      <td>...</td>\n",
       "      <td>...</td>\n",
       "      <td>...</td>\n",
       "      <td>...</td>\n",
       "      <td>...</td>\n",
       "      <td>...</td>\n",
       "    </tr>\n",
       "    <tr>\n",
       "      <th>2443646</th>\n",
       "      <td>2828589</td>\n",
       "      <td>B0CHSD7P2Q</td>\n",
       "      <td>Motorbike Armour, Motorbike Clothing, Cycling ...</td>\n",
       "      <td>0.0</td>\n",
       "      <td>0</td>\n",
       "      <td>22.34</td>\n",
       "      <td>False</td>\n",
       "      <td>0</td>\n",
       "      <td>Motorbike Clothing</td>\n",
       "    </tr>\n",
       "    <tr>\n",
       "      <th>2443647</th>\n",
       "      <td>2828590</td>\n",
       "      <td>B0B7B8FNBQ</td>\n",
       "      <td>PROFIRST Waterproof Motorcycle 2 Piece Ladies ...</td>\n",
       "      <td>0.0</td>\n",
       "      <td>0</td>\n",
       "      <td>97.99</td>\n",
       "      <td>False</td>\n",
       "      <td>0</td>\n",
       "      <td>Motorbike Clothing</td>\n",
       "    </tr>\n",
       "    <tr>\n",
       "      <th>2443648</th>\n",
       "      <td>2828591</td>\n",
       "      <td>B0BD5FL5FB</td>\n",
       "      <td>Men’s Motorcycle Motorbike Biker Trousers Kevl...</td>\n",
       "      <td>0.0</td>\n",
       "      <td>0</td>\n",
       "      <td>52.99</td>\n",
       "      <td>False</td>\n",
       "      <td>0</td>\n",
       "      <td>Motorbike Clothing</td>\n",
       "    </tr>\n",
       "    <tr>\n",
       "      <th>1216663</th>\n",
       "      <td>1343580</td>\n",
       "      <td>B0B56STK8N</td>\n",
       "      <td>AASITZ Outdoor Road Mens Cycling Shoes Self-lo...</td>\n",
       "      <td>0.0</td>\n",
       "      <td>0</td>\n",
       "      <td>60.99</td>\n",
       "      <td>False</td>\n",
       "      <td>0</td>\n",
       "      <td>Sports &amp; Outdoors</td>\n",
       "    </tr>\n",
       "    <tr>\n",
       "      <th>2138194</th>\n",
       "      <td>2480212</td>\n",
       "      <td>B0C9X6SP65</td>\n",
       "      <td>HEEPDD Flip Phone, Dual Card Flip Phone 300000...</td>\n",
       "      <td>0.0</td>\n",
       "      <td>0</td>\n",
       "      <td>40.70</td>\n",
       "      <td>False</td>\n",
       "      <td>0</td>\n",
       "      <td>Mobile Phones &amp; Smartphones</td>\n",
       "    </tr>\n",
       "  </tbody>\n",
       "</table>\n",
       "<p>2443651 rows × 9 columns</p>\n",
       "</div>"
      ],
      "text/plain": [
       "             uid        asin  \\\n",
       "1655310  1862213  B0CC26GGMM   \n",
       "2437718  2819382  B0CCL3FGSD   \n",
       "2365983  2727113  B09VXRFLDS   \n",
       "2437709  2819373  B09RB766G9   \n",
       "1771188  1993660  B01EIB2VFI   \n",
       "...          ...         ...   \n",
       "2443646  2828589  B0CHSD7P2Q   \n",
       "2443647  2828590  B0B7B8FNBQ   \n",
       "2443648  2828591  B0BD5FL5FB   \n",
       "1216663  1343580  B0B56STK8N   \n",
       "2138194  2480212  B0C9X6SP65   \n",
       "\n",
       "                                                     title  stars  reviews  \\\n",
       "1655310  Pinetree Bone Conduction Headphones, 2023 Upgr...    5.0        2   \n",
       "2437718  Best House Ping Pong Table Tennis Balls 40mm B...    5.0        1   \n",
       "2365983                     Unisex Kid's Goldenstar Sandal    5.0        1   \n",
       "2437709                          GEWO Rubber Thunderball 2    5.0        3   \n",
       "1771188  Amplitude Large Hardside Suitcase in Silver wi...    5.0        2   \n",
       "...                                                    ...    ...      ...   \n",
       "2443646  Motorbike Armour, Motorbike Clothing, Cycling ...    0.0        0   \n",
       "2443647  PROFIRST Waterproof Motorcycle 2 Piece Ladies ...    0.0        0   \n",
       "2443648  Men’s Motorcycle Motorbike Biker Trousers Kevl...    0.0        0   \n",
       "1216663  AASITZ Outdoor Road Mens Cycling Shoes Self-lo...    0.0        0   \n",
       "2138194  HEEPDD Flip Phone, Dual Card Flip Phone 300000...    0.0        0   \n",
       "\n",
       "          price  isBestSeller  boughtInLastMonth  \\\n",
       "1655310   39.98         False                  0   \n",
       "2437718    6.99         False                  0   \n",
       "2365983   50.76         False                  0   \n",
       "2437709   22.00         False                  0   \n",
       "1771188  130.18         False                  0   \n",
       "...         ...           ...                ...   \n",
       "2443646   22.34         False                  0   \n",
       "2443647   97.99         False                  0   \n",
       "2443648   52.99         False                  0   \n",
       "1216663   60.99         False                  0   \n",
       "2138194   40.70         False                  0   \n",
       "\n",
       "                                    category  \n",
       "1655310  Headphones, Earphones & Accessories  \n",
       "2437718                         Table Tennis  \n",
       "2365983                                Girls  \n",
       "2437709                         Table Tennis  \n",
       "1771188              Luggage and travel gear  \n",
       "...                                      ...  \n",
       "2443646                   Motorbike Clothing  \n",
       "2443647                   Motorbike Clothing  \n",
       "2443648                   Motorbike Clothing  \n",
       "1216663                    Sports & Outdoors  \n",
       "2138194          Mobile Phones & Smartphones  \n",
       "\n",
       "[2443651 rows x 9 columns]"
      ]
     },
     "execution_count": 100,
     "metadata": {},
     "output_type": "execute_result"
    }
   ],
   "source": [
    "df.sort_values(\"stars\",ascending = False, inplace = False)"
   ]
  },
  {
   "cell_type": "code",
   "execution_count": null,
   "id": "bf17ee18",
   "metadata": {},
   "outputs": [
    {
     "data": {
      "text/plain": [
       "array([4.7, 4.6, 4.5, 4.8, 0. , 4.4, 4.3, 4.1, 4.9, 5. , 3.8, 3.6, 4. ,\n",
       "       4.2, 3. , 3.9, 2.5, 3.4, 3.7, 3.2, 3.3, 3.5, 2.7, 2.1, 1. , 3.1,\n",
       "       2. , 2.9, 2.8, 1.5, 2.2, 2.3, 2.6, 2.4, 1.4, 1.9, 1.8, 1.7, 1.6,\n",
       "       1.2, 1.3, 1.1])"
      ]
     },
     "execution_count": 94,
     "metadata": {},
     "output_type": "execute_result"
    }
   ],
   "source": [
    "df['stars'].unique()"
   ]
  },
  {
   "cell_type": "code",
   "execution_count": null,
   "id": "bf173bce",
   "metadata": {},
   "outputs": [
    {
     "data": {
      "text/plain": [
       "count    2443651.00\n",
       "mean           2.15\n",
       "std            2.19\n",
       "min            0.00\n",
       "25%            0.00\n",
       "50%            0.00\n",
       "75%            4.40\n",
       "max            5.00\n",
       "Name: stars, dtype: float64"
      ]
     },
     "execution_count": 97,
     "metadata": {},
     "output_type": "execute_result"
    }
   ],
   "source": [
    "round(df['stars'].describe(),2)"
   ]
  },
  {
   "cell_type": "code",
   "execution_count": null,
   "id": "5e1cb620",
   "metadata": {},
   "outputs": [
    {
     "name": "stdout",
     "output_type": "stream",
     "text": [
      "Mean Price: 2.15\n",
      "Median Price: 0.0\n",
      "Mode Price: 0    0.0\n",
      "Name: stars, dtype: float64\n"
     ]
    }
   ],
   "source": [
    "# Calculate the mean, median, and mode for the rating of products.\n",
    "print(f\"Mean Rating: {round(df['stars'].mean(),2)}\")\n",
    "print(f\"Median Rating: {round(df['stars'].median(),2)}\")\n",
    "print(f\"Mode Rating: {round(df['stars'].mode(),2)}\")"
   ]
  },
  {
   "cell_type": "markdown",
   "id": "6db667b8",
   "metadata": {},
   "source": [
    "How do customers generally rate products? Is there a common trend?\n",
    "\n",
    "- The stars column represents product ratings, with typical values between 0 and 5.\n",
    "- From the dataset sample (df.head()) and the summary statistics, most ratings are concentrated around 4.6–4.7.\n",
    "- Many products have high ratings, suggesting a positive bias (as is common on Amazon and similar platforms).\n",
    "- There is a significant number of products with \"0\" ratings, which may indicate items with no reviews rather than truly bad products.\n",
    "Common trend: Most rated products receive high marks (typically 4–5 stars), which is a common pattern in online marketplaces due to selection bias and positive feedback loops."
   ]
  },
  {
   "cell_type": "code",
   "execution_count": 41,
   "id": "9544cffe",
   "metadata": {},
   "outputs": [
    {
     "name": "stdout",
     "output_type": "stream",
     "text": [
      "Variance Rating: 4.82\n",
      "Std Deviation Rating: 2.19\n",
      "Rating Range: (np.float64(0.0), np.float64(5.0))\n",
      "Rating Interquartile Range: 4.4\n"
     ]
    }
   ],
   "source": [
    "desc = df['stars'].describe()\n",
    "# desc['std'], desc['min'], desc['max'], desc['25%'], desc['75%']\n",
    "variance = round(df['stars'].var(), 2)\n",
    "std_dev = round(df['stars'].std(), 2)\n",
    "price_range = (desc['min'], desc['max'])\n",
    "iqr = desc['75%'] - desc['25%']\n",
    "\n",
    "print(f'Variance Rating: {variance}')\n",
    "print(f\"Std Deviation Rating: {std_dev}\")\n",
    "print(f'Rating Range: {price_range}')\n",
    "print(f\"Rating Interquartile Range: {iqr}\")"
   ]
  },
  {
   "cell_type": "markdown",
   "id": "c61c7ec5",
   "metadata": {},
   "source": [
    "Are the ratings consistent, or is there a wide variation in customer feedback?\n",
    "- From the dataset, the number of unique values in stars is only 42 (see df.nunique()), suggesting ratings are not extremely granular.\n",
    "- Most ratings cluster around high values; lower ratings are less frequent.\n",
    "- Ratings consistency: Product ratings are consistent, with most feedback being positive. There is less variation and only a minority of products with low ratings."
   ]
  },
  {
   "cell_type": "code",
   "execution_count": 42,
   "id": "7d6a26da",
   "metadata": {},
   "outputs": [
    {
     "data": {
      "text/plain": [
       "(0, -2)"
      ]
     },
     "execution_count": 42,
     "metadata": {},
     "output_type": "execute_result"
    }
   ],
   "source": [
    "# Calculate the skewness and kurtosis for the rating column.\n",
    "skewness_price = round(df['stars'].skew())\n",
    "kurtosis_price = round(df['stars'].kurtosis())\n",
    "\n",
    "skewness_price, kurtosis_price"
   ]
  },
  {
   "cell_type": "markdown",
   "id": "196e2927",
   "metadata": {},
   "source": [
    "Insights:\n",
    "Positive skew: Ratings are highly skewed toward positive values.\n",
    "Consistency: Most products are rated highly, with few receiving poor ratings.\n",
    "Histogram: Visualizes the bias toward high ratings and the occurrence of unrated products."
   ]
  },
  {
   "cell_type": "code",
   "execution_count": 44,
   "id": "69f47500",
   "metadata": {},
   "outputs": [
    {
     "data": {
      "image/png": "[encoded data removed]",
      "text/plain": [
       "<Figure size 640x480 with 1 Axes>"
      ]
     },
     "metadata": {},
     "output_type": "display_data"
    }
   ],
   "source": [
    "# Plot a histogram to visualize the distribution of product ratings. Is there a specific rating that is more common?\n",
    "fig, axes = plt.subplots()\n",
    "sns.histplot(df['stars'], kde=True, bins=30, color=\"salmon\", ax=axes);\n",
    "plt.show()"
   ]
  },
  {
   "cell_type": "markdown",
   "id": "8942b52a",
   "metadata": {},
   "source": [
    "Massive spike around 4.5–5 stars.\n",
    "There is another spike at 0 stars (representing products without ratings).\n",
    "Ratings below 3 are rare.\n",
    "Most common rating: 4.7 stars is prevalent, followed by 4.6 and 5.0. \"0\" is also frequent but usually means \"not rated.\"\n",
    "The histogram show a strong peak at high ratings and a long tail toward lower ratings."
   ]
  },
  {
   "cell_type": "code",
   "execution_count": 47,
   "id": "bed78b57",
   "metadata": {},
   "outputs": [
    {
     "name": "stdout",
     "output_type": "stream",
     "text": [
      "stars\n",
      "0.0    1225641\n",
      "4.5     151577\n",
      "4.6     136995\n",
      "4.4     136165\n",
      "5.0     128492\n",
      "4.3     112564\n",
      "4.7      94566\n",
      "4.2      86871\n",
      "4.0      66089\n",
      "4.1      65115\n",
      "4.8      41858\n",
      "3.9      36555\n",
      "3.8      27876\n",
      "3.7      21137\n",
      "3.6      16219\n",
      "3.5      14673\n",
      "3.0      12819\n",
      "4.9      11081\n",
      "3.4      10355\n",
      "1.0       8484\n",
      "3.3       8269\n",
      "3.2       5771\n",
      "3.1       4679\n",
      "2.0       3901\n",
      "2.9       3341\n",
      "2.8       2306\n",
      "2.7       2104\n",
      "2.5       2103\n",
      "2.6       1579\n",
      "2.4       1060\n",
      "2.3        734\n",
      "2.2        602\n",
      "2.1        540\n",
      "1.5        404\n",
      "1.9        300\n",
      "1.8        249\n",
      "1.7        177\n",
      "1.4        149\n",
      "1.6        147\n",
      "1.3         78\n",
      "1.2         23\n",
      "1.1          3\n",
      "Name: count, dtype: int64\n"
     ]
    }
   ],
   "source": [
    "print(df['stars'].value_counts().sort_values(ascending=False))"
   ]
  }
 ],
 "metadata": {
  "kernelspec": {
   "display_name": "project-template",
   "language": "python",
   "name": "python3"
  },
  "language_info": {
   "codemirror_mode": {
    "name": "ipython",
    "version": 3
   },
   "file_extension": ".py",
   "mimetype": "text/x-python",
   "name": "python",
   "nbconvert_exporter": "python",
   "pygments_lexer": "ipython3",
   "version": "3.13.5"
  }
 },
 "nbformat": 4,
 "nbformat_minor": 5
}
